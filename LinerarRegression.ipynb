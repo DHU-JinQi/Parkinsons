{
 "cells": [
  {
   "cell_type": "code",
   "execution_count": 1,
   "metadata": {},
   "outputs": [],
   "source": [
    "data<-read.csv('Parkinsons.csv',header=TRUE)"
   ]
  },
  {
   "cell_type": "code",
   "execution_count": 2,
   "metadata": {},
   "outputs": [],
   "source": [
    "lm_1<-lm(total_UPDRS~.,data)"
   ]
  },
  {
   "cell_type": "code",
   "execution_count": 3,
   "metadata": {},
   "outputs": [
    {
     "data": {
      "text/plain": [
       "\n",
       "Call:\n",
       "lm(formula = total_UPDRS ~ ., data = data)\n",
       "\n",
       "Residuals:\n",
       "    Min      1Q  Median      3Q     Max \n",
       "-35.389  -7.384  -1.742   7.401  26.487 \n",
       "\n",
       "Coefficients:\n",
       "                Estimate Std. Error t value Pr(>|t|)    \n",
       "(Intercept)    3.972e+01  3.203e+00  12.401  < 2e-16 ***\n",
       "age            3.030e-01  1.506e-02  20.113  < 2e-16 ***\n",
       "sex           -2.792e+00  3.165e-01  -8.823  < 2e-16 ***\n",
       "test_time      1.655e-02  2.387e-03   6.933 4.56e-12 ***\n",
       "Jitter...      4.337e+01  2.129e+02   0.204   0.8386    \n",
       "Jitter.Abs.   -6.407e+04  9.883e+03  -6.483 9.70e-11 ***\n",
       "Jitter.RAP    -3.952e+04  4.674e+04  -0.846   0.3979    \n",
       "Jitter.PPQ5   -3.386e+02  1.894e+02  -1.788   0.0738 .  \n",
       "Jitter.DDP     1.345e+04  1.558e+04   0.863   0.3879    \n",
       "Shimmer        1.493e+02  6.469e+01   2.307   0.0211 *  \n",
       "Shimmer.dB.   -8.904e+00  4.832e+00  -1.843   0.0654 .  \n",
       "Shimmer.APQ3  -1.466e+04  4.695e+04  -0.312   0.7548    \n",
       "Shimmer.APQ5  -6.257e+01  5.521e+01  -1.133   0.2571    \n",
       "Shimmer.APQ11  5.345e+01  2.482e+01   2.153   0.0313 *  \n",
       "Shimmer.DDA    4.815e+03  1.565e+04   0.308   0.7584    \n",
       "NHR           -1.522e+01  6.230e+00  -2.444   0.0146 *  \n",
       "HNR           -6.271e-01  6.885e-02  -9.108  < 2e-16 ***\n",
       "RPDE           4.043e+00  1.821e+00   2.220   0.0265 *  \n",
       "DFA           -3.148e+01  2.307e+00 -13.644  < 2e-16 ***\n",
       "PPE            1.752e+01  2.922e+00   5.996 2.14e-09 ***\n",
       "---\n",
       "Signif. codes:  0 '***' 0.001 '**' 0.01 '*' 0.05 '.' 0.1 ' ' 1\n",
       "\n",
       "Residual standard error: 9.726 on 5855 degrees of freedom\n",
       "Multiple R-squared:  0.1765,\tAdjusted R-squared:  0.1739 \n",
       "F-statistic: 66.07 on 19 and 5855 DF,  p-value: < 2.2e-16\n"
      ]
     },
     "metadata": {},
     "output_type": "display_data"
    }
   ],
   "source": [
    "summary(lm_1)"
   ]
  }
 ],
 "metadata": {
  "kernelspec": {
   "display_name": "R",
   "language": "R",
   "name": "ir"
  },
  "language_info": {
   "codemirror_mode": "r",
   "file_extension": ".r",
   "mimetype": "text/x-r-source",
   "name": "R",
   "pygments_lexer": "r",
   "version": "3.5.1"
  }
 },
 "nbformat": 4,
 "nbformat_minor": 2
}
